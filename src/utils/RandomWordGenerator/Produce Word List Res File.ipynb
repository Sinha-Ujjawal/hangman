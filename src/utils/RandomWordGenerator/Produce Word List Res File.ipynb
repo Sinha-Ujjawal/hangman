{
 "cells": [
  {
   "cell_type": "code",
   "execution_count": 1,
   "id": "08fcdd95-e0f2-42f0-9b62-2241ce39724b",
   "metadata": {},
   "outputs": [
    {
     "name": "stdout",
     "output_type": "stream",
     "text": [
      "Python 3.7.6\n"
     ]
    }
   ],
   "source": [
    "! python --version"
   ]
  },
  {
   "cell_type": "code",
   "execution_count": 45,
   "id": "6baa3418-fbec-4146-a6dd-12e7cf631614",
   "metadata": {},
   "outputs": [
    {
     "name": "stdout",
     "output_type": "stream",
     "text": [
      "Requirement already satisfied: numpy in c:\\anaconda3\\envs\\py376\\lib\\site-packages (1.21.4)\n",
      "Requirement already satisfied: nltk in c:\\anaconda3\\envs\\py376\\lib\\site-packages (3.6.6)\n",
      "Requirement already satisfied: tqdm in c:\\anaconda3\\envs\\py376\\lib\\site-packages (from nltk) (4.62.3)\n",
      "Requirement already satisfied: joblib in c:\\anaconda3\\envs\\py376\\lib\\site-packages (from nltk) (1.1.0)\n",
      "Requirement already satisfied: regex>=2021.8.3 in c:\\anaconda3\\envs\\py376\\lib\\site-packages (from nltk) (2021.11.10)\n",
      "Requirement already satisfied: click in c:\\anaconda3\\envs\\py376\\lib\\site-packages (from nltk) (7.1.2)\n",
      "Requirement already satisfied: colorama in c:\\anaconda3\\envs\\py376\\lib\\site-packages (from tqdm->nltk) (0.4.4)\n"
     ]
    }
   ],
   "source": [
    "! python -m pip install numpy nltk"
   ]
  },
  {
   "cell_type": "code",
   "execution_count": 51,
   "id": "b98ffa4b-f907-4a67-87ef-0ef917cfe5e8",
   "metadata": {},
   "outputs": [
    {
     "name": "stderr",
     "output_type": "stream",
     "text": [
      "[nltk_data] Downloading package wordnet to\n",
      "[nltk_data]     C:\\Users\\ujjaw\\AppData\\Roaming\\nltk_data...\n",
      "[nltk_data]   Package wordnet is already up-to-date!\n",
      "[nltk_data] Downloading package omw-1.4 to\n",
      "[nltk_data]     C:\\Users\\ujjaw\\AppData\\Roaming\\nltk_data...\n",
      "[nltk_data]   Unzipping corpora\\omw-1.4.zip.\n"
     ]
    },
    {
     "data": {
      "text/plain": [
       "True"
      ]
     },
     "execution_count": 51,
     "metadata": {},
     "output_type": "execute_result"
    }
   ],
   "source": [
    "import nltk\n",
    "\n",
    "nltk.download(\"wordnet\")\n",
    "nltk.download(\"omw-1.4\")"
   ]
  },
  {
   "cell_type": "code",
   "execution_count": 71,
   "id": "bf0a94df-7d08-4627-b28d-95f53d1949c3",
   "metadata": {},
   "outputs": [],
   "source": [
    "from typing import List\n",
    "import zipfile as zf\n",
    "from string import ascii_letters\n",
    "from nltk.stem import WordNetLemmatizer"
   ]
  },
  {
   "cell_type": "code",
   "execution_count": 3,
   "id": "0130dcb6-5c5d-444d-b9e9-94167959869c",
   "metadata": {},
   "outputs": [],
   "source": [
    "archive = zf.ZipFile(\"./parts of speech word files.zip\", \"r\")"
   ]
  },
  {
   "cell_type": "code",
   "execution_count": 60,
   "id": "532e6da2-4e27-41c0-b833-e290cd2fbda8",
   "metadata": {},
   "outputs": [
    {
     "data": {
      "text/plain": [
       "['adjectives/1syllableadjectives.txt',\n",
       " 'adjectives/28K adjectives.txt',\n",
       " 'adjectives/2syllableadjectives.txt',\n",
       " 'adjectives/3syllableadjectives.txt',\n",
       " 'adjectives/4syllableadjectives.txt',\n",
       " 'adverbs/1syllableadverbs.txt',\n",
       " 'adverbs/2syllableadverbs.txt',\n",
       " 'adverbs/3syllableadverbs.txt',\n",
       " 'adverbs/4syllableadverbs.txt',\n",
       " 'adverbs/6K adverbs.txt',\n",
       " 'nouns/1syllablenouns.txt',\n",
       " 'nouns/2syllablenouns.txt',\n",
       " 'nouns/3syllablenouns.txt',\n",
       " 'nouns/4syllablenouns.txt',\n",
       " 'nouns/91K nouns.txt',\n",
       " 'readme.txt',\n",
       " 'verbs/1syllableverbs.txt',\n",
       " 'verbs/2syllableverbs.txt',\n",
       " 'verbs/31K verbs.txt',\n",
       " 'verbs/3syllableverbs.txt',\n",
       " 'verbs/4syllableverbs.txt']"
      ]
     },
     "execution_count": 60,
     "metadata": {},
     "output_type": "execute_result"
    }
   ],
   "source": [
    "word_files = archive.namelist()\n",
    "word_files"
   ]
  },
  {
   "cell_type": "code",
   "execution_count": 24,
   "id": "cb0721a7-1b35-4b49-b50b-c07c409d9339",
   "metadata": {},
   "outputs": [],
   "source": [
    "def all_ascii(word: str) -> bool:\n",
    "    return all(s in ascii_letters  for s in word)"
   ]
  },
  {
   "cell_type": "code",
   "execution_count": 39,
   "id": "da03e13f-f8df-483d-857d-b4c8ed765e5d",
   "metadata": {},
   "outputs": [],
   "source": [
    "def appropriate_word(word: str) -> bool:\n",
    "    return (\n",
    "        all_ascii(word)\n",
    "        and (5 <= len(word) <= 10)\n",
    "    )"
   ]
  },
  {
   "cell_type": "code",
   "execution_count": 48,
   "id": "d63c96b5-b315-44dd-a6ff-d85fa04d69fd",
   "metadata": {},
   "outputs": [],
   "source": [
    "lemmatizer = WordNetLemmatizer()"
   ]
  },
  {
   "cell_type": "code",
   "execution_count": 72,
   "id": "8ccc07d0-fb65-4727-96f5-80945a40df59",
   "metadata": {},
   "outputs": [],
   "source": [
    "words = sorted(set(\n",
    "    word\n",
    "    for file_path in word_files\n",
    "    if file_path != \"readme.txt\"\n",
    "    for word in sorted(set(\n",
    "        archive.read(file_path)\n",
    "        .decode(\"utf-8\")\n",
    "        .split()\n",
    "    ))\n",
    "    for word in [lemmatizer.lemmatize(word)]\n",
    "    if appropriate_word(word)\n",
    "))"
   ]
  },
  {
   "cell_type": "code",
   "execution_count": 73,
   "id": "0d91792c-6d0e-4b6d-88d0-f1fc42eae877",
   "metadata": {},
   "outputs": [
    {
     "data": {
      "text/plain": [
       "76965"
      ]
     },
     "execution_count": 73,
     "metadata": {},
     "output_type": "execute_result"
    }
   ],
   "source": [
    "len(words)"
   ]
  },
  {
   "cell_type": "code",
   "execution_count": 74,
   "id": "a301790b-b5a9-41b6-8ed0-b55f6fc93c97",
   "metadata": {},
   "outputs": [],
   "source": [
    "def to_res(value_name: str, values: List[str]) -> str:\n",
    "    values = \",\\n\".join(\n",
    "        x\n",
    "        for x in values\n",
    "        for x in [f'  \"{x}\"']\n",
    "    )\n",
    "    return (\n",
    "f\"\"\"let {value_name} = [\n",
    "{values}\n",
    "]\"\"\"\n",
    "    )"
   ]
  },
  {
   "cell_type": "code",
   "execution_count": 75,
   "id": "d913d445-2ea0-4588-b8c2-028becc309fe",
   "metadata": {},
   "outputs": [],
   "source": [
    "def to_res_file(value_name: str, values: List[str], file_name: str):\n",
    "    with open(f\"{file_name}.res\", \"w\") as fp:\n",
    "        fp.write(to_res(value_name, values))"
   ]
  },
  {
   "cell_type": "code",
   "execution_count": 76,
   "id": "9328fa47-1a54-4600-b5d3-427eab606c7c",
   "metadata": {},
   "outputs": [],
   "source": [
    "to_res_file(\"words\", words, \"Word\")"
   ]
  },
  {
   "cell_type": "code",
   "execution_count": null,
   "id": "595c74d0-2459-4f0b-9321-57778a2e0eef",
   "metadata": {},
   "outputs": [],
   "source": []
  }
 ],
 "metadata": {
  "kernelspec": {
   "display_name": "py376",
   "language": "python",
   "name": "py376"
  },
  "language_info": {
   "codemirror_mode": {
    "name": "ipython",
    "version": 3
   },
   "file_extension": ".py",
   "mimetype": "text/x-python",
   "name": "python",
   "nbconvert_exporter": "python",
   "pygments_lexer": "ipython3",
   "version": "3.7.6"
  }
 },
 "nbformat": 4,
 "nbformat_minor": 5
}
